{
  "cells": [
    {
      "cell_type": "markdown",
      "metadata": {
        "id": "view-in-github",
        "colab_type": "text"
      },
      "source": [
        "<a href=\"https://colab.research.google.com/github/danylonepochatov/calculator/blob/main/Nepochatov_Danylo_10_2_assignment.ipynb\" target=\"_parent\"><img src=\"https://colab.research.google.com/assets/colab-badge.svg\" alt=\"Open In Colab\"/></a>"
      ]
    },
    {
      "cell_type": "markdown",
      "metadata": {
        "id": "oY7M_WqQy7zz"
      },
      "source": [
        "# Assignment 10.2\n",
        "\n",
        "> Replace all TODOs with your code. Do not change any other code."
      ]
    },
    {
      "cell_type": "code",
      "execution_count": 24,
      "metadata": {
        "id": "DCZ2nU3KCFyk"
      },
      "outputs": [],
      "source": [
        "# Do not edit this cell\n",
        "\n",
        "import csv\n",
        "import unittest\n"
      ]
    },
    {
      "cell_type": "markdown",
      "metadata": {
        "id": "Jz8SYjAz0N8D"
      },
      "source": [
        "## Clean code"
      ]
    },
    {
      "cell_type": "markdown",
      "metadata": {
        "id": "IHwd1Zzby7z1"
      },
      "source": [
        "### Task 1\n",
        "\n",
        "You are given a function that reads a csv file with temperature measurements (see example below), converts Fahrenheit values to Celsius, calculates and prints some statistics, and writes to another file. It looks a bit messy, let's clean it up!\n",
        "\n",
        "Example file:\n",
        "```csv\n",
        "Temperature (F)\n",
        "78.5\n",
        "81.2\n",
        "75.9\n",
        "82.1\n",
        "```\n",
        "\n",
        "Do the steps below one by one, editing the code in the cell:\n",
        "1. Naming is so ambiguous and unclear, let's rename variables and function name with proper names.\n",
        "2. Are these comments really useful?\n",
        "3. This function does quite a lot, let's divide it in the way that each function does only one thing, and there's one main function that uses others.\n",
        "4. There seem to be some magic coefficients in the temperature conversion part; let's make them obvious.\n",
        "\n",
        "If you find any additional improvements, feel free to implement them and leave a comment under your code with an explanation."
      ]
    },
    {
      "cell_type": "code",
      "execution_count": 23,
      "metadata": {
        "tags": [
          "task_1"
        ],
        "id": "uBoo2azsCFyv"
      },
      "outputs": [],
      "source": [
        "fahrenheit_to_celsius_multiplier = 5 / 9\n",
        "fahrenheit_to_celsius_offset = 32\n",
        "\n",
        "def read_fahrenheit_temperatures(filepath: str) -> list[float]:\n",
        "    temperature = []\n",
        "\n",
        "\n",
        "    with open(filepath, 'r') as file:\n",
        "        reader = csv.reader(file)\n",
        "        next(reader)\n",
        "        for row in reader:\n",
        "            fahrenheit = float(row[0])\n",
        "            celsius = (fahrenheit - fahrenheit_to_celsius_offset) * fahrenheit_to_celsius_multiplier\n",
        "            temperature.append(celsius)\n",
        "    return temperature\n",
        "\n",
        "def calculate_statistics(temperatures: list[float]) -> tuple[float, float, float]:\n",
        "\n",
        "    average = sum(temperatures) / len(temperatures)\n",
        "    minimun = min(temperatures)\n",
        "    maximum = max(temperatures)\n",
        "    return (average, minimun, maximum)\n",
        "\n",
        "def print_statistics(average: float, minimum: float, maximum: float) -> None:\n",
        "\n",
        "    print(\"Statistics:\")\n",
        "    print(\"Average: {average:.2f}°C\")\n",
        "    print(\"Minimum: {minimum:.2f}°C\")\n",
        "    print(\"Maximum: {maximum:.2f}°C\")\n",
        "\n",
        "def write_celcius_to_csv(filepath: str, temperatures: list[float]) -> None:\n",
        "    with open(filepath, 'w', newline='') as file:\n",
        "        writer = csv.writer(file)\n",
        "        writer.writerow(['Temperature (C)'])\n",
        "        for temp in temperatures:\n",
        "            writer.writerow([f\"{temp:2f}\"])\n",
        "\n",
        "\n",
        "def process_temperature_data(input_path: str, output_path: str) -> None:\n",
        "\n",
        "    celsius_temps = read_fahrenheit_temperatures(input_path)\n",
        "    avg, min_temp, max_temp = calculate_statistics(celsius_temps)\n",
        "    print_statistics(avg, min_temp, max_temp)\n",
        "    write_celcius_to_csv(output_path, celsius_temps)"
      ]
    },
    {
      "cell_type": "markdown",
      "metadata": {
        "id": "lL-ELM-Ay7z2"
      },
      "source": [
        "### Task 2\n",
        "\n",
        "How would you write tests for the initial implementation? What exactly would you test in the function?\n",
        "\n",
        "I hope you see now that once functionality is separated, it's easier to test it in isolation. So, let's write a couple of unit tests for your function and one integration test for your main function.\n",
        "\n",
        "Hint: you would probably want to mock reading from/writing to file to make the test independent from the environment."
      ]
    },
    {
      "cell_type": "code",
      "execution_count": 28,
      "metadata": {
        "id": "cibiSsjry7z3",
        "tags": [
          "task_2"
        ],
        "colab": {
          "base_uri": "https://localhost:8080/"
        },
        "outputId": "8dd12cbb-0310-4e68-e593-d35fdd537f40"
      },
      "outputs": [
        {
          "output_type": "stream",
          "name": "stderr",
          "text": [
            "...\n",
            "----------------------------------------------------------------------\n",
            "Ran 3 tests in 0.014s\n",
            "\n",
            "OK\n"
          ]
        },
        {
          "output_type": "stream",
          "name": "stdout",
          "text": [
            "Statistics:\n",
            "Average: {average:.2f}°C\n",
            "Minimum: {minimum:.2f}°C\n",
            "Maximum: {maximum:.2f}°C\n"
          ]
        }
      ],
      "source": [
        "import csv\n",
        "from unittest.mock import mock_open, patch\n",
        "\n",
        "class UnitTestCase(unittest.TestCase):\n",
        "\n",
        "    def test_calculate_temperature_statistics(self):\n",
        "        temperatures = [20.0, 22.0, 18.0]\n",
        "        average, minimum, maximum = calculate_statistics(temperatures)\n",
        "        self.assertAlmostEqual(average, 20.0)\n",
        "        self.assertEqual(minimum, 18.0)\n",
        "        self.assertEqual(maximum, 22.0)\n",
        "\n",
        "    @patch(\"builtins.open\", new_callable=mock_open, read_data=\"Temperature (F)\\n78.8\\n86.0\")\n",
        "    def test_read_temperatures_in_celsius_from_csv(self, mock_file):\n",
        "\n",
        "        with patch(\"csv.reader\", return_value=iter([[\"Temperature (F)\"], [\"78.8\"], [\"86.0\"]])):\n",
        "            result = read_fahrenheit_temperatures(\"dummy.csv\")\n",
        "        expected = [(78.8 - 32) * 5 / 9, (86.0 - 32) * 5 / 9]\n",
        "        self.assertAlmostEqual(result[0], expected[0], places=2)\n",
        "        self.assertAlmostEqual(result[1], expected[1], places=2)\n",
        "\n",
        "\n",
        "class IntegrationTestCase(unittest.TestCase):\n",
        "\n",
        "    @patch(\"builtins.open\", new_callable=mock_open)\n",
        "    def test_process_temperature_data(self, mock_file):\n",
        "\n",
        "        mock_reader = iter([[\"Temperature (F)\"], [\"78.8\"], [\"86.0\"]])\n",
        "\n",
        "\n",
        "        with patch(\"csv.reader\", return_value=mock_reader):\n",
        "            with patch(\"csv.writer\") as mock_writer_class:\n",
        "                mock_writer = mock_writer_class.return_value\n",
        "                process_temperature_data(\"input.csv\", \"output.csv\")\n",
        "\n",
        "\n",
        "                self.assertIn(\n",
        "                    unittest.mock.call([\"Temperature (C)\"]),\n",
        "                    mock_writer.writerow.call_args_list\n",
        "                )\n",
        "\n",
        "                self.assertEqual(mock_writer.writerow.call_count, 3)\n",
        "\n",
        "\n",
        "if __name__ == \"__main__\":\n",
        "    unittest.main(argv=['first-arg-is-ignored'], exit=False)"
      ]
    }
  ],
  "metadata": {
    "colab": {
      "provenance": [],
      "include_colab_link": true
    },
    "kernelspec": {
      "display_name": "venv",
      "language": "python",
      "name": "python3"
    },
    "language_info": {
      "codemirror_mode": {
        "name": "ipython",
        "version": 3
      },
      "file_extension": ".py",
      "mimetype": "text/x-python",
      "name": "python",
      "nbconvert_exporter": "python",
      "pygments_lexer": "ipython3",
      "version": "3.11.5"
    },
    "orig_nbformat": 4
  },
  "nbformat": 4,
  "nbformat_minor": 0
}